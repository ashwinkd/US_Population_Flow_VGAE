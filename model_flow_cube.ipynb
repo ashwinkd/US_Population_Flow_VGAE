{
  "nbformat": 4,
  "nbformat_minor": 0,
  "metadata": {
    "kernelspec": {
      "display_name": "Python 3",
      "language": "python",
      "name": "python3"
    },
    "language_info": {
      "codemirror_mode": {
        "name": "ipython",
        "version": 2
      },
      "file_extension": ".py",
      "mimetype": "text/x-python",
      "name": "python",
      "nbconvert_exporter": "python",
      "pygments_lexer": "ipython2",
      "version": "2.7.6"
    },
    "colab": {
      "name": "tf-keras-multi-output-model.ipynb",
      "provenance": [],
      "include_colab_link": true
    }
  },
  "cells": [
    {
      "cell_type": "markdown",
      "metadata": {
        "id": "view-in-github",
        "colab_type": "text"
      },
      "source": [
        "<a href=\"https://colab.research.google.com/github/ashwinkd/US_Population_Flow_VGAE/blob/master/model_flow_cube.ipynb\" target=\"_parent\"><img src=\"https://colab.research.google.com/assets/colab-badge.svg\" alt=\"Open In Colab\"/></a>"
      ]
    },
    {
      "cell_type": "code",
      "metadata": {
        "collapsed": true,
        "id": "ZOYeMg5dhc5G"
      },
      "source": [
        "# Andrej Baranovskij, http://katanaml.io/\n",
        "# https://scikit-learn.org/stable/datasets/toy_dataset.html\n",
        "\n",
        "# Importing the libraries\n",
        "import pandas as pd\n",
        "import tensorflow as tf\n",
        "import numpy as np\n",
        "import matplotlib.pyplot as plt\n",
        "from tensorflow.keras.models import Model\n",
        "from tensorflow.keras.layers import Dense, Input\n",
        "from sklearn.model_selection import train_test_split\n",
        "\n",
        "# Importing the Boston Housing dataset\n",
        "from sklearn.datasets import load_boston"
      ],
      "execution_count": 1,
      "outputs": []
    },
    {
      "cell_type": "code",
      "metadata": {
        "pycharm": {
          "name": "#%%\n"
        },
        "id": "8kHMUyE8hc5L"
      },
      "source": [
        "# Loading the Boston Housing dataset\n",
        "boston = load_boston()"
      ],
      "execution_count": 2,
      "outputs": []
    },
    {
      "cell_type": "code",
      "metadata": {
        "pycharm": {
          "name": "#%%\n"
        },
        "id": "dcVpmgmdhc5L"
      },
      "source": [
        "# Initializing the dataframe\n",
        "data = pd.DataFrame(boston.data)"
      ],
      "execution_count": 3,
      "outputs": []
    },
    {
      "cell_type": "code",
      "metadata": {
        "pycharm": {
          "name": "#%%\n"
        },
        "id": "oBZq1fSmhc5M"
      },
      "source": [
        "#Adding the feature names to the dataframe\n",
        "data.columns = boston.feature_names"
      ],
      "execution_count": 4,
      "outputs": []
    },
    {
      "cell_type": "code",
      "metadata": {
        "pycharm": {
          "name": "#%%\n"
        },
        "colab": {
          "base_uri": "https://localhost:8080/",
          "height": 203
        },
        "id": "HQB-g31_hc5M",
        "outputId": "39fdf158-c6b1-4ce3-8d0e-5606be0b65ae"
      },
      "source": [
        "#Adding target variable to dataframe\n",
        "data['PRICE'] = boston.target\n",
        "data.head()"
      ],
      "execution_count": 5,
      "outputs": [
        {
          "output_type": "execute_result",
          "data": {
            "text/html": [
              "<div>\n",
              "<style scoped>\n",
              "    .dataframe tbody tr th:only-of-type {\n",
              "        vertical-align: middle;\n",
              "    }\n",
              "\n",
              "    .dataframe tbody tr th {\n",
              "        vertical-align: top;\n",
              "    }\n",
              "\n",
              "    .dataframe thead th {\n",
              "        text-align: right;\n",
              "    }\n",
              "</style>\n",
              "<table border=\"1\" class=\"dataframe\">\n",
              "  <thead>\n",
              "    <tr style=\"text-align: right;\">\n",
              "      <th></th>\n",
              "      <th>CRIM</th>\n",
              "      <th>ZN</th>\n",
              "      <th>INDUS</th>\n",
              "      <th>CHAS</th>\n",
              "      <th>NOX</th>\n",
              "      <th>RM</th>\n",
              "      <th>AGE</th>\n",
              "      <th>DIS</th>\n",
              "      <th>RAD</th>\n",
              "      <th>TAX</th>\n",
              "      <th>PTRATIO</th>\n",
              "      <th>B</th>\n",
              "      <th>LSTAT</th>\n",
              "      <th>PRICE</th>\n",
              "    </tr>\n",
              "  </thead>\n",
              "  <tbody>\n",
              "    <tr>\n",
              "      <th>0</th>\n",
              "      <td>0.00632</td>\n",
              "      <td>18.0</td>\n",
              "      <td>2.31</td>\n",
              "      <td>0.0</td>\n",
              "      <td>0.538</td>\n",
              "      <td>6.575</td>\n",
              "      <td>65.2</td>\n",
              "      <td>4.0900</td>\n",
              "      <td>1.0</td>\n",
              "      <td>296.0</td>\n",
              "      <td>15.3</td>\n",
              "      <td>396.90</td>\n",
              "      <td>4.98</td>\n",
              "      <td>24.0</td>\n",
              "    </tr>\n",
              "    <tr>\n",
              "      <th>1</th>\n",
              "      <td>0.02731</td>\n",
              "      <td>0.0</td>\n",
              "      <td>7.07</td>\n",
              "      <td>0.0</td>\n",
              "      <td>0.469</td>\n",
              "      <td>6.421</td>\n",
              "      <td>78.9</td>\n",
              "      <td>4.9671</td>\n",
              "      <td>2.0</td>\n",
              "      <td>242.0</td>\n",
              "      <td>17.8</td>\n",
              "      <td>396.90</td>\n",
              "      <td>9.14</td>\n",
              "      <td>21.6</td>\n",
              "    </tr>\n",
              "    <tr>\n",
              "      <th>2</th>\n",
              "      <td>0.02729</td>\n",
              "      <td>0.0</td>\n",
              "      <td>7.07</td>\n",
              "      <td>0.0</td>\n",
              "      <td>0.469</td>\n",
              "      <td>7.185</td>\n",
              "      <td>61.1</td>\n",
              "      <td>4.9671</td>\n",
              "      <td>2.0</td>\n",
              "      <td>242.0</td>\n",
              "      <td>17.8</td>\n",
              "      <td>392.83</td>\n",
              "      <td>4.03</td>\n",
              "      <td>34.7</td>\n",
              "    </tr>\n",
              "    <tr>\n",
              "      <th>3</th>\n",
              "      <td>0.03237</td>\n",
              "      <td>0.0</td>\n",
              "      <td>2.18</td>\n",
              "      <td>0.0</td>\n",
              "      <td>0.458</td>\n",
              "      <td>6.998</td>\n",
              "      <td>45.8</td>\n",
              "      <td>6.0622</td>\n",
              "      <td>3.0</td>\n",
              "      <td>222.0</td>\n",
              "      <td>18.7</td>\n",
              "      <td>394.63</td>\n",
              "      <td>2.94</td>\n",
              "      <td>33.4</td>\n",
              "    </tr>\n",
              "    <tr>\n",
              "      <th>4</th>\n",
              "      <td>0.06905</td>\n",
              "      <td>0.0</td>\n",
              "      <td>2.18</td>\n",
              "      <td>0.0</td>\n",
              "      <td>0.458</td>\n",
              "      <td>7.147</td>\n",
              "      <td>54.2</td>\n",
              "      <td>6.0622</td>\n",
              "      <td>3.0</td>\n",
              "      <td>222.0</td>\n",
              "      <td>18.7</td>\n",
              "      <td>396.90</td>\n",
              "      <td>5.33</td>\n",
              "      <td>36.2</td>\n",
              "    </tr>\n",
              "  </tbody>\n",
              "</table>\n",
              "</div>"
            ],
            "text/plain": [
              "      CRIM    ZN  INDUS  CHAS    NOX  ...    TAX  PTRATIO       B  LSTAT  PRICE\n",
              "0  0.00632  18.0   2.31   0.0  0.538  ...  296.0     15.3  396.90   4.98   24.0\n",
              "1  0.02731   0.0   7.07   0.0  0.469  ...  242.0     17.8  396.90   9.14   21.6\n",
              "2  0.02729   0.0   7.07   0.0  0.469  ...  242.0     17.8  392.83   4.03   34.7\n",
              "3  0.03237   0.0   2.18   0.0  0.458  ...  222.0     18.7  394.63   2.94   33.4\n",
              "4  0.06905   0.0   2.18   0.0  0.458  ...  222.0     18.7  396.90   5.33   36.2\n",
              "\n",
              "[5 rows x 14 columns]"
            ]
          },
          "metadata": {},
          "execution_count": 5
        }
      ]
    },
    {
      "cell_type": "code",
      "metadata": {
        "pycharm": {
          "name": "#%%\n"
        },
        "colab": {
          "base_uri": "https://localhost:8080/"
        },
        "id": "nfWRHNUdhc5N",
        "outputId": "1bacd411-d6ad-4a5a-9ac1-d2c9ac8be88d"
      },
      "source": [
        "#Check the shape of dataframe\n",
        "data.shape"
      ],
      "execution_count": 6,
      "outputs": [
        {
          "output_type": "execute_result",
          "data": {
            "text/plain": [
              "(506, 14)"
            ]
          },
          "metadata": {},
          "execution_count": 6
        }
      ]
    },
    {
      "cell_type": "code",
      "metadata": {
        "pycharm": {
          "name": "#%%\n"
        },
        "colab": {
          "base_uri": "https://localhost:8080/"
        },
        "id": "t1WZjZ-Rhc5N",
        "outputId": "d9d839df-dba7-4ba3-c7b0-e73828424034"
      },
      "source": [
        "data.columns"
      ],
      "execution_count": 7,
      "outputs": [
        {
          "output_type": "execute_result",
          "data": {
            "text/plain": [
              "Index(['CRIM', 'ZN', 'INDUS', 'CHAS', 'NOX', 'RM', 'AGE', 'DIS', 'RAD', 'TAX',\n",
              "       'PTRATIO', 'B', 'LSTAT', 'PRICE'],\n",
              "      dtype='object')"
            ]
          },
          "metadata": {},
          "execution_count": 7
        }
      ]
    },
    {
      "cell_type": "code",
      "metadata": {
        "pycharm": {
          "name": "#%%\n"
        },
        "id": "dxDUWF46hc5N"
      },
      "source": [
        "# Split the data into train and test with 80 train / 20 test\n",
        "train, test = train_test_split(data, test_size=0.2, random_state = 1)\n",
        "train, val = train_test_split(train, test_size=0.2, random_state = 1)"
      ],
      "execution_count": 8,
      "outputs": []
    },
    {
      "cell_type": "code",
      "metadata": {
        "pycharm": {
          "name": "#%%\n"
        },
        "id": "ipVt5rwRhc5N"
      },
      "source": [
        "# Helper functions\n",
        "def norm(x):\n",
        "    return (x - train_stats['mean']) / train_stats['std']\n",
        "\n",
        "def format_output(data):\n",
        "    y1 = data.pop('PRICE')\n",
        "    y1 = np.array(y1)\n",
        "    y2 = data.pop('PTRATIO')\n",
        "    y2 = np.array(y2)\n",
        "    return y1, y2"
      ],
      "execution_count": 9,
      "outputs": []
    },
    {
      "cell_type": "code",
      "metadata": {
        "pycharm": {
          "name": "#%%\n"
        },
        "id": "DaB-D9J-hc5O",
        "colab": {
          "base_uri": "https://localhost:8080/"
        },
        "outputId": "4c5db590-04d9-4fed-803a-bc7ecff793b0"
      },
      "source": [
        "# Get PRICE and PTRATIO as the 2 outputs and format them as np arrays\n",
        "# PTRATIO - pupil-teacher ratio by town\n",
        "train_stats = train.describe()\n",
        "train_stats.pop('PRICE')\n",
        "train_stats.pop('PTRATIO')\n",
        "train_stats = train_stats.transpose()\n",
        "train_Y = format_output(train)\n",
        "test_Y = format_output(test)\n",
        "val_Y = format_output(val)\n",
        "\n",
        "print(train_stats)"
      ],
      "execution_count": 10,
      "outputs": [
        {
          "output_type": "stream",
          "name": "stdout",
          "text": [
            "       count        mean         std  ...        50%         75%       max\n",
            "CRIM   323.0    3.882044    9.680410  ...    0.25387    3.944055   88.9762\n",
            "ZN     323.0   12.233746   24.323780  ...    0.00000   19.000000  100.0000\n",
            "INDUS  323.0   11.121796    6.876617  ...    8.56000   18.100000   27.7400\n",
            "CHAS   323.0    0.080495    0.272481  ...    0.00000    0.000000    1.0000\n",
            "NOX    323.0    0.553683    0.118625  ...    0.53200    0.624000    0.8710\n",
            "RM     323.0    6.276935    0.691051  ...    6.19300    6.666500    8.7800\n",
            "AGE    323.0   68.279876   28.452257  ...   77.70000   93.900000  100.0000\n",
            "DIS    323.0    3.864749    2.154972  ...    3.36030    5.237900   12.1265\n",
            "RAD    323.0    9.721362    8.801984  ...    5.00000   24.000000   24.0000\n",
            "TAX    323.0  406.588235  170.365557  ...  329.00000  666.000000  711.0000\n",
            "B      323.0  359.145604   89.252050  ...  391.93000  396.100000  396.9000\n",
            "LSTAT  323.0   12.733529    7.251569  ...   11.45000   17.155000   37.9700\n",
            "\n",
            "[12 rows x 8 columns]\n"
          ]
        }
      ]
    },
    {
      "cell_type": "code",
      "metadata": {
        "pycharm": {
          "name": "#%%\n"
        },
        "id": "7KjLlcXZhc5O"
      },
      "source": [
        "# Normalize the training and test data\n",
        "norm_train_X = np.array(norm(train))\n",
        "norm_test_X = np.array(norm(test))\n",
        "norm_val_X = np.array(norm(val))"
      ],
      "execution_count": 11,
      "outputs": []
    },
    {
      "cell_type": "code",
      "metadata": {
        "pycharm": {
          "name": "#%%\n"
        },
        "id": "0fSfnEGahc5O"
      },
      "source": [
        "def build_model():\n",
        "    # Define model layers.\n",
        "    input_layer = Input(shape=(len(train .columns),))\n",
        "    first_dense = Dense(units='128', activation='relu')(input_layer)\n",
        "    # Y1 output will be fed from the first dense\n",
        "    y1_output = Dense(units='1', name='price_output')(first_dense)\n",
        "\n",
        "    second_dense = Dense(units='128', activation='relu')(first_dense)\n",
        "    # Y2 output will be fed from the second dense\n",
        "    y2_output = Dense(units='1', name='ptratio_output')(second_dense)\n",
        "\n",
        "    # Define the model with the input layer and a list of output layers\n",
        "    model = Model(inputs=input_layer, outputs=[y1_output, y2_output])\n",
        "\n",
        "    return model"
      ],
      "execution_count": 12,
      "outputs": []
    },
    {
      "cell_type": "code",
      "metadata": {
        "pycharm": {
          "name": "#%%\n"
        },
        "id": "XbJwIjXshc5O",
        "outputId": "4837ce9b-8949-4b92-cd0c-55bb084baa37",
        "colab": {
          "base_uri": "https://localhost:8080/"
        }
      },
      "source": [
        "model = build_model()\n",
        "\n",
        "# Specify the optimizer, and compile the model with loss functions for both outputs\n",
        "optimizer = tf.keras.optimizers.SGD(lr=0.001)\n",
        "model.compile(optimizer=optimizer,\n",
        "              loss={'price_output': 'mse', 'ptratio_output': 'mse'},\n",
        "              metrics={'price_output': tf.keras.metrics.RootMeanSquaredError(),\n",
        "                       'ptratio_output': tf.keras.metrics.RootMeanSquaredError()})"
      ],
      "execution_count": 13,
      "outputs": [
        {
          "output_type": "stream",
          "name": "stderr",
          "text": [
            "/usr/local/lib/python3.7/dist-packages/keras/optimizer_v2/gradient_descent.py:102: UserWarning: The `lr` argument is deprecated, use `learning_rate` instead.\n",
            "  super(SGD, self).__init__(name, **kwargs)\n"
          ]
        }
      ]
    },
    {
      "cell_type": "code",
      "metadata": {
        "pycharm": {
          "name": "#%%\n"
        },
        "colab": {
          "base_uri": "https://localhost:8080/"
        },
        "id": "FqFjmQzbhc5P",
        "outputId": "8cd09637-727e-4405-af7d-23b55672b094"
      },
      "source": [
        "# Train the model for 100 epochs\n",
        "history = model.fit(norm_train_X, train_Y,\n",
        "                    epochs=100, batch_size=10, validation_data=(norm_test_X, test_Y))"
      ],
      "execution_count": 14,
      "outputs": [
        {
          "output_type": "stream",
          "name": "stdout",
          "text": [
            "Epoch 1/100\n",
            "33/33 [==============================] - 1s 7ms/step - loss: 528.9809 - price_output_loss: 366.2355 - ptratio_output_loss: 162.7454 - price_output_root_mean_squared_error: 19.1373 - ptratio_output_root_mean_squared_error: 12.7572 - val_loss: 166.0057 - val_price_output_loss: 146.1604 - val_ptratio_output_loss: 19.8453 - val_price_output_root_mean_squared_error: 12.0897 - val_ptratio_output_root_mean_squared_error: 4.4548\n",
            "Epoch 2/100\n",
            "33/33 [==============================] - 0s 2ms/step - loss: 79.7197 - price_output_loss: 66.3140 - ptratio_output_loss: 13.4057 - price_output_root_mean_squared_error: 8.1433 - ptratio_output_root_mean_squared_error: 3.6614 - val_loss: 58.2312 - val_price_output_loss: 49.4277 - val_ptratio_output_loss: 8.8035 - val_price_output_root_mean_squared_error: 7.0305 - val_ptratio_output_root_mean_squared_error: 2.9671\n",
            "Epoch 3/100\n",
            "33/33 [==============================] - 0s 2ms/step - loss: 41.9682 - price_output_loss: 35.0322 - ptratio_output_loss: 6.9360 - price_output_root_mean_squared_error: 5.9188 - ptratio_output_root_mean_squared_error: 2.6336 - val_loss: 42.3692 - val_price_output_loss: 35.2937 - val_ptratio_output_loss: 7.0755 - val_price_output_root_mean_squared_error: 5.9409 - val_ptratio_output_root_mean_squared_error: 2.6600\n",
            "Epoch 4/100\n",
            "33/33 [==============================] - 0s 2ms/step - loss: 34.5361 - price_output_loss: 29.2443 - ptratio_output_loss: 5.2918 - price_output_root_mean_squared_error: 5.4078 - ptratio_output_root_mean_squared_error: 2.3004 - val_loss: 34.1602 - val_price_output_loss: 28.8149 - val_ptratio_output_loss: 5.3453 - val_price_output_root_mean_squared_error: 5.3679 - val_ptratio_output_root_mean_squared_error: 2.3120\n",
            "Epoch 5/100\n",
            "33/33 [==============================] - 0s 2ms/step - loss: 30.3490 - price_output_loss: 26.1659 - ptratio_output_loss: 4.1831 - price_output_root_mean_squared_error: 5.1153 - ptratio_output_root_mean_squared_error: 2.0453 - val_loss: 29.1790 - val_price_output_loss: 24.3867 - val_ptratio_output_loss: 4.7923 - val_price_output_root_mean_squared_error: 4.9383 - val_ptratio_output_root_mean_squared_error: 2.1891\n",
            "Epoch 6/100\n",
            "33/33 [==============================] - 0s 3ms/step - loss: 27.8424 - price_output_loss: 23.9869 - ptratio_output_loss: 3.8554 - price_output_root_mean_squared_error: 4.8976 - ptratio_output_root_mean_squared_error: 1.9635 - val_loss: 28.7794 - val_price_output_loss: 23.8275 - val_ptratio_output_loss: 4.9519 - val_price_output_root_mean_squared_error: 4.8813 - val_ptratio_output_root_mean_squared_error: 2.2253\n",
            "Epoch 7/100\n",
            "33/33 [==============================] - 0s 2ms/step - loss: 26.6359 - price_output_loss: 23.0480 - ptratio_output_loss: 3.5880 - price_output_root_mean_squared_error: 4.8008 - ptratio_output_root_mean_squared_error: 1.8942 - val_loss: 25.5607 - val_price_output_loss: 21.0925 - val_ptratio_output_loss: 4.4682 - val_price_output_root_mean_squared_error: 4.5927 - val_ptratio_output_root_mean_squared_error: 2.1138\n",
            "Epoch 8/100\n",
            "33/33 [==============================] - 0s 2ms/step - loss: 25.3760 - price_output_loss: 22.0291 - ptratio_output_loss: 3.3469 - price_output_root_mean_squared_error: 4.6935 - ptratio_output_root_mean_squared_error: 1.8295 - val_loss: 25.1169 - val_price_output_loss: 19.9111 - val_ptratio_output_loss: 5.2058 - val_price_output_root_mean_squared_error: 4.4622 - val_ptratio_output_root_mean_squared_error: 2.2816\n",
            "Epoch 9/100\n",
            "33/33 [==============================] - 0s 3ms/step - loss: 24.3090 - price_output_loss: 20.9639 - ptratio_output_loss: 3.3451 - price_output_root_mean_squared_error: 4.5786 - ptratio_output_root_mean_squared_error: 1.8290 - val_loss: 22.8173 - val_price_output_loss: 18.8703 - val_ptratio_output_loss: 3.9470 - val_price_output_root_mean_squared_error: 4.3440 - val_ptratio_output_root_mean_squared_error: 1.9867\n",
            "Epoch 10/100\n",
            "33/33 [==============================] - 0s 2ms/step - loss: 23.3197 - price_output_loss: 20.1624 - ptratio_output_loss: 3.1573 - price_output_root_mean_squared_error: 4.4903 - ptratio_output_root_mean_squared_error: 1.7769 - val_loss: 21.7571 - val_price_output_loss: 17.9397 - val_ptratio_output_loss: 3.8175 - val_price_output_root_mean_squared_error: 4.2355 - val_ptratio_output_root_mean_squared_error: 1.9538\n",
            "Epoch 11/100\n",
            "33/33 [==============================] - 0s 2ms/step - loss: 22.5171 - price_output_loss: 19.4370 - ptratio_output_loss: 3.0801 - price_output_root_mean_squared_error: 4.4087 - ptratio_output_root_mean_squared_error: 1.7550 - val_loss: 20.9857 - val_price_output_loss: 17.1765 - val_ptratio_output_loss: 3.8092 - val_price_output_root_mean_squared_error: 4.1445 - val_ptratio_output_root_mean_squared_error: 1.9517\n",
            "Epoch 12/100\n",
            "33/33 [==============================] - 0s 3ms/step - loss: 21.7133 - price_output_loss: 18.7536 - ptratio_output_loss: 2.9597 - price_output_root_mean_squared_error: 4.3305 - ptratio_output_root_mean_squared_error: 1.7204 - val_loss: 21.0587 - val_price_output_loss: 17.0316 - val_ptratio_output_loss: 4.0272 - val_price_output_root_mean_squared_error: 4.1269 - val_ptratio_output_root_mean_squared_error: 2.0068\n",
            "Epoch 13/100\n",
            "33/33 [==============================] - 0s 3ms/step - loss: 21.1581 - price_output_loss: 18.1072 - ptratio_output_loss: 3.0509 - price_output_root_mean_squared_error: 4.2553 - ptratio_output_root_mean_squared_error: 1.7467 - val_loss: 19.9489 - val_price_output_loss: 15.8628 - val_ptratio_output_loss: 4.0861 - val_price_output_root_mean_squared_error: 3.9828 - val_ptratio_output_root_mean_squared_error: 2.0214\n",
            "Epoch 14/100\n",
            "33/33 [==============================] - 0s 3ms/step - loss: 20.5842 - price_output_loss: 17.7283 - ptratio_output_loss: 2.8559 - price_output_root_mean_squared_error: 4.2105 - ptratio_output_root_mean_squared_error: 1.6899 - val_loss: 20.1053 - val_price_output_loss: 16.4942 - val_ptratio_output_loss: 3.6111 - val_price_output_root_mean_squared_error: 4.0613 - val_ptratio_output_root_mean_squared_error: 1.9003\n",
            "Epoch 15/100\n",
            "33/33 [==============================] - 0s 3ms/step - loss: 19.8442 - price_output_loss: 16.9692 - ptratio_output_loss: 2.8750 - price_output_root_mean_squared_error: 4.1194 - ptratio_output_root_mean_squared_error: 1.6956 - val_loss: 19.2556 - val_price_output_loss: 15.7640 - val_ptratio_output_loss: 3.4916 - val_price_output_root_mean_squared_error: 3.9704 - val_ptratio_output_root_mean_squared_error: 1.8686\n",
            "Epoch 16/100\n",
            "33/33 [==============================] - 0s 2ms/step - loss: 19.6252 - price_output_loss: 16.7864 - ptratio_output_loss: 2.8388 - price_output_root_mean_squared_error: 4.0971 - ptratio_output_root_mean_squared_error: 1.6849 - val_loss: 18.9821 - val_price_output_loss: 15.4507 - val_ptratio_output_loss: 3.5314 - val_price_output_root_mean_squared_error: 3.9307 - val_ptratio_output_root_mean_squared_error: 1.8792\n",
            "Epoch 17/100\n",
            "33/33 [==============================] - 0s 2ms/step - loss: 19.3587 - price_output_loss: 16.5376 - ptratio_output_loss: 2.8211 - price_output_root_mean_squared_error: 4.0666 - ptratio_output_root_mean_squared_error: 1.6796 - val_loss: 19.5475 - val_price_output_loss: 15.8579 - val_ptratio_output_loss: 3.6896 - val_price_output_root_mean_squared_error: 3.9822 - val_ptratio_output_root_mean_squared_error: 1.9208\n",
            "Epoch 18/100\n",
            "33/33 [==============================] - 0s 2ms/step - loss: 18.7072 - price_output_loss: 16.0417 - ptratio_output_loss: 2.6655 - price_output_root_mean_squared_error: 4.0052 - ptratio_output_root_mean_squared_error: 1.6326 - val_loss: 19.6240 - val_price_output_loss: 15.9322 - val_ptratio_output_loss: 3.6918 - val_price_output_root_mean_squared_error: 3.9915 - val_ptratio_output_root_mean_squared_error: 1.9214\n",
            "Epoch 19/100\n",
            "33/33 [==============================] - 0s 2ms/step - loss: 18.5285 - price_output_loss: 15.8626 - ptratio_output_loss: 2.6659 - price_output_root_mean_squared_error: 3.9828 - ptratio_output_root_mean_squared_error: 1.6328 - val_loss: 19.9817 - val_price_output_loss: 14.7723 - val_ptratio_output_loss: 5.2094 - val_price_output_root_mean_squared_error: 3.8435 - val_ptratio_output_root_mean_squared_error: 2.2824\n",
            "Epoch 20/100\n",
            "33/33 [==============================] - 0s 3ms/step - loss: 18.2526 - price_output_loss: 15.5859 - ptratio_output_loss: 2.6667 - price_output_root_mean_squared_error: 3.9479 - ptratio_output_root_mean_squared_error: 1.6330 - val_loss: 17.4662 - val_price_output_loss: 14.3666 - val_ptratio_output_loss: 3.0997 - val_price_output_root_mean_squared_error: 3.7903 - val_ptratio_output_root_mean_squared_error: 1.7606\n",
            "Epoch 21/100\n",
            "33/33 [==============================] - 0s 2ms/step - loss: 17.9446 - price_output_loss: 15.5078 - ptratio_output_loss: 2.4368 - price_output_root_mean_squared_error: 3.9380 - ptratio_output_root_mean_squared_error: 1.5610 - val_loss: 17.3124 - val_price_output_loss: 14.2543 - val_ptratio_output_loss: 3.0581 - val_price_output_root_mean_squared_error: 3.7755 - val_ptratio_output_root_mean_squared_error: 1.7487\n",
            "Epoch 22/100\n",
            "33/33 [==============================] - 0s 2ms/step - loss: 17.5694 - price_output_loss: 15.1007 - ptratio_output_loss: 2.4688 - price_output_root_mean_squared_error: 3.8860 - ptratio_output_root_mean_squared_error: 1.5712 - val_loss: 17.1696 - val_price_output_loss: 14.0364 - val_ptratio_output_loss: 3.1332 - val_price_output_root_mean_squared_error: 3.7465 - val_ptratio_output_root_mean_squared_error: 1.7701\n",
            "Epoch 23/100\n",
            "33/33 [==============================] - 0s 2ms/step - loss: 17.2329 - price_output_loss: 14.9149 - ptratio_output_loss: 2.3180 - price_output_root_mean_squared_error: 3.8620 - ptratio_output_root_mean_squared_error: 1.5225 - val_loss: 16.9677 - val_price_output_loss: 13.7767 - val_ptratio_output_loss: 3.1910 - val_price_output_root_mean_squared_error: 3.7117 - val_ptratio_output_root_mean_squared_error: 1.7863\n",
            "Epoch 24/100\n",
            "33/33 [==============================] - 0s 2ms/step - loss: 16.9782 - price_output_loss: 14.6018 - ptratio_output_loss: 2.3764 - price_output_root_mean_squared_error: 3.8212 - ptratio_output_root_mean_squared_error: 1.5415 - val_loss: 17.0601 - val_price_output_loss: 13.6560 - val_ptratio_output_loss: 3.4041 - val_price_output_root_mean_squared_error: 3.6954 - val_ptratio_output_root_mean_squared_error: 1.8450\n",
            "Epoch 25/100\n",
            "33/33 [==============================] - 0s 3ms/step - loss: 16.7390 - price_output_loss: 14.4153 - ptratio_output_loss: 2.3238 - price_output_root_mean_squared_error: 3.7967 - ptratio_output_root_mean_squared_error: 1.5244 - val_loss: 17.9452 - val_price_output_loss: 13.4494 - val_ptratio_output_loss: 4.4959 - val_price_output_root_mean_squared_error: 3.6673 - val_ptratio_output_root_mean_squared_error: 2.1203\n",
            "Epoch 26/100\n",
            "33/33 [==============================] - 0s 2ms/step - loss: 16.7098 - price_output_loss: 14.3566 - ptratio_output_loss: 2.3532 - price_output_root_mean_squared_error: 3.7890 - ptratio_output_root_mean_squared_error: 1.5340 - val_loss: 15.8204 - val_price_output_loss: 12.9869 - val_ptratio_output_loss: 2.8335 - val_price_output_root_mean_squared_error: 3.6037 - val_ptratio_output_root_mean_squared_error: 1.6833\n",
            "Epoch 27/100\n",
            "33/33 [==============================] - 0s 2ms/step - loss: 16.1811 - price_output_loss: 13.9591 - ptratio_output_loss: 2.2220 - price_output_root_mean_squared_error: 3.7362 - ptratio_output_root_mean_squared_error: 1.4906 - val_loss: 15.6854 - val_price_output_loss: 12.6640 - val_ptratio_output_loss: 3.0214 - val_price_output_root_mean_squared_error: 3.5587 - val_ptratio_output_root_mean_squared_error: 1.7382\n",
            "Epoch 28/100\n",
            "33/33 [==============================] - 0s 3ms/step - loss: 16.2926 - price_output_loss: 14.0310 - ptratio_output_loss: 2.2616 - price_output_root_mean_squared_error: 3.7458 - ptratio_output_root_mean_squared_error: 1.5039 - val_loss: 16.0356 - val_price_output_loss: 12.6813 - val_ptratio_output_loss: 3.3543 - val_price_output_root_mean_squared_error: 3.5611 - val_ptratio_output_root_mean_squared_error: 1.8315\n",
            "Epoch 29/100\n",
            "33/33 [==============================] - 0s 3ms/step - loss: 16.1137 - price_output_loss: 13.9253 - ptratio_output_loss: 2.1884 - price_output_root_mean_squared_error: 3.7317 - ptratio_output_root_mean_squared_error: 1.4793 - val_loss: 14.7891 - val_price_output_loss: 11.7337 - val_ptratio_output_loss: 3.0554 - val_price_output_root_mean_squared_error: 3.4254 - val_ptratio_output_root_mean_squared_error: 1.7480\n",
            "Epoch 30/100\n",
            "33/33 [==============================] - 0s 2ms/step - loss: 15.7875 - price_output_loss: 13.6639 - ptratio_output_loss: 2.1236 - price_output_root_mean_squared_error: 3.6965 - ptratio_output_root_mean_squared_error: 1.4572 - val_loss: 14.8602 - val_price_output_loss: 11.9617 - val_ptratio_output_loss: 2.8985 - val_price_output_root_mean_squared_error: 3.4586 - val_ptratio_output_root_mean_squared_error: 1.7025\n",
            "Epoch 31/100\n",
            "33/33 [==============================] - 0s 2ms/step - loss: 15.7024 - price_output_loss: 13.5940 - ptratio_output_loss: 2.1084 - price_output_root_mean_squared_error: 3.6870 - ptratio_output_root_mean_squared_error: 1.4520 - val_loss: 14.5804 - val_price_output_loss: 11.7789 - val_ptratio_output_loss: 2.8015 - val_price_output_root_mean_squared_error: 3.4320 - val_ptratio_output_root_mean_squared_error: 1.6738\n",
            "Epoch 32/100\n",
            "33/33 [==============================] - 0s 2ms/step - loss: 15.4178 - price_output_loss: 13.2932 - ptratio_output_loss: 2.1246 - price_output_root_mean_squared_error: 3.6460 - ptratio_output_root_mean_squared_error: 1.4576 - val_loss: 15.9629 - val_price_output_loss: 13.0292 - val_ptratio_output_loss: 2.9336 - val_price_output_root_mean_squared_error: 3.6096 - val_ptratio_output_root_mean_squared_error: 1.7128\n",
            "Epoch 33/100\n",
            "33/33 [==============================] - 0s 2ms/step - loss: 15.5413 - price_output_loss: 13.4929 - ptratio_output_loss: 2.0484 - price_output_root_mean_squared_error: 3.6733 - ptratio_output_root_mean_squared_error: 1.4312 - val_loss: 14.1775 - val_price_output_loss: 11.1194 - val_ptratio_output_loss: 3.0582 - val_price_output_root_mean_squared_error: 3.3346 - val_ptratio_output_root_mean_squared_error: 1.7488\n",
            "Epoch 34/100\n",
            "33/33 [==============================] - 0s 2ms/step - loss: 15.2085 - price_output_loss: 13.1291 - ptratio_output_loss: 2.0794 - price_output_root_mean_squared_error: 3.6234 - ptratio_output_root_mean_squared_error: 1.4420 - val_loss: 14.7765 - val_price_output_loss: 11.8993 - val_ptratio_output_loss: 2.8772 - val_price_output_root_mean_squared_error: 3.4495 - val_ptratio_output_root_mean_squared_error: 1.6962\n",
            "Epoch 35/100\n",
            "33/33 [==============================] - 0s 2ms/step - loss: 14.8085 - price_output_loss: 12.7899 - ptratio_output_loss: 2.0186 - price_output_root_mean_squared_error: 3.5763 - ptratio_output_root_mean_squared_error: 1.4208 - val_loss: 14.8487 - val_price_output_loss: 12.0487 - val_ptratio_output_loss: 2.8000 - val_price_output_root_mean_squared_error: 3.4711 - val_ptratio_output_root_mean_squared_error: 1.6733\n",
            "Epoch 36/100\n",
            "33/33 [==============================] - 0s 2ms/step - loss: 14.8087 - price_output_loss: 12.8460 - ptratio_output_loss: 1.9627 - price_output_root_mean_squared_error: 3.5841 - ptratio_output_root_mean_squared_error: 1.4010 - val_loss: 15.1384 - val_price_output_loss: 12.2100 - val_ptratio_output_loss: 2.9284 - val_price_output_root_mean_squared_error: 3.4943 - val_ptratio_output_root_mean_squared_error: 1.7113\n",
            "Epoch 37/100\n",
            "33/33 [==============================] - 0s 2ms/step - loss: 14.6821 - price_output_loss: 12.7025 - ptratio_output_loss: 1.9795 - price_output_root_mean_squared_error: 3.5641 - ptratio_output_root_mean_squared_error: 1.4070 - val_loss: 14.5998 - val_price_output_loss: 11.5716 - val_ptratio_output_loss: 3.0282 - val_price_output_root_mean_squared_error: 3.4017 - val_ptratio_output_root_mean_squared_error: 1.7402\n",
            "Epoch 38/100\n",
            "33/33 [==============================] - 0s 2ms/step - loss: 14.5491 - price_output_loss: 12.6204 - ptratio_output_loss: 1.9287 - price_output_root_mean_squared_error: 3.5525 - ptratio_output_root_mean_squared_error: 1.3888 - val_loss: 14.6231 - val_price_output_loss: 11.8923 - val_ptratio_output_loss: 2.7309 - val_price_output_root_mean_squared_error: 3.4485 - val_ptratio_output_root_mean_squared_error: 1.6525\n",
            "Epoch 39/100\n",
            "33/33 [==============================] - 0s 3ms/step - loss: 14.5378 - price_output_loss: 12.6263 - ptratio_output_loss: 1.9115 - price_output_root_mean_squared_error: 3.5533 - ptratio_output_root_mean_squared_error: 1.3826 - val_loss: 14.8264 - val_price_output_loss: 11.5737 - val_ptratio_output_loss: 3.2527 - val_price_output_root_mean_squared_error: 3.4020 - val_ptratio_output_root_mean_squared_error: 1.8035\n",
            "Epoch 40/100\n",
            "33/33 [==============================] - 0s 2ms/step - loss: 14.2852 - price_output_loss: 12.3689 - ptratio_output_loss: 1.9162 - price_output_root_mean_squared_error: 3.5169 - ptratio_output_root_mean_squared_error: 1.3843 - val_loss: 14.9426 - val_price_output_loss: 11.6765 - val_ptratio_output_loss: 3.2661 - val_price_output_root_mean_squared_error: 3.4171 - val_ptratio_output_root_mean_squared_error: 1.8072\n",
            "Epoch 41/100\n",
            "33/33 [==============================] - 0s 2ms/step - loss: 14.3009 - price_output_loss: 12.4087 - ptratio_output_loss: 1.8922 - price_output_root_mean_squared_error: 3.5226 - ptratio_output_root_mean_squared_error: 1.3756 - val_loss: 14.8968 - val_price_output_loss: 11.5379 - val_ptratio_output_loss: 3.3589 - val_price_output_root_mean_squared_error: 3.3968 - val_ptratio_output_root_mean_squared_error: 1.8327\n",
            "Epoch 42/100\n",
            "33/33 [==============================] - 0s 2ms/step - loss: 14.0261 - price_output_loss: 12.1572 - ptratio_output_loss: 1.8689 - price_output_root_mean_squared_error: 3.4867 - ptratio_output_root_mean_squared_error: 1.3671 - val_loss: 13.7471 - val_price_output_loss: 11.0130 - val_ptratio_output_loss: 2.7342 - val_price_output_root_mean_squared_error: 3.3186 - val_ptratio_output_root_mean_squared_error: 1.6535\n",
            "Epoch 43/100\n",
            "33/33 [==============================] - 0s 2ms/step - loss: 13.9101 - price_output_loss: 12.0777 - ptratio_output_loss: 1.8324 - price_output_root_mean_squared_error: 3.4753 - ptratio_output_root_mean_squared_error: 1.3537 - val_loss: 14.2137 - val_price_output_loss: 11.4700 - val_ptratio_output_loss: 2.7437 - val_price_output_root_mean_squared_error: 3.3867 - val_ptratio_output_root_mean_squared_error: 1.6564\n",
            "Epoch 44/100\n",
            "33/33 [==============================] - 0s 2ms/step - loss: 13.8745 - price_output_loss: 12.0510 - ptratio_output_loss: 1.8235 - price_output_root_mean_squared_error: 3.4714 - ptratio_output_root_mean_squared_error: 1.3504 - val_loss: 14.8211 - val_price_output_loss: 11.9665 - val_ptratio_output_loss: 2.8546 - val_price_output_root_mean_squared_error: 3.4593 - val_ptratio_output_root_mean_squared_error: 1.6896\n",
            "Epoch 45/100\n",
            "33/33 [==============================] - 0s 2ms/step - loss: 13.6764 - price_output_loss: 11.9231 - ptratio_output_loss: 1.7532 - price_output_root_mean_squared_error: 3.4530 - ptratio_output_root_mean_squared_error: 1.3241 - val_loss: 13.7438 - val_price_output_loss: 11.1650 - val_ptratio_output_loss: 2.5788 - val_price_output_root_mean_squared_error: 3.3414 - val_ptratio_output_root_mean_squared_error: 1.6059\n",
            "Epoch 46/100\n",
            "33/33 [==============================] - 0s 3ms/step - loss: 13.6684 - price_output_loss: 11.9058 - ptratio_output_loss: 1.7625 - price_output_root_mean_squared_error: 3.4505 - ptratio_output_root_mean_squared_error: 1.3276 - val_loss: 13.8570 - val_price_output_loss: 11.1069 - val_ptratio_output_loss: 2.7501 - val_price_output_root_mean_squared_error: 3.3327 - val_ptratio_output_root_mean_squared_error: 1.6583\n",
            "Epoch 47/100\n",
            "33/33 [==============================] - 0s 2ms/step - loss: 13.4902 - price_output_loss: 11.8184 - ptratio_output_loss: 1.6718 - price_output_root_mean_squared_error: 3.4378 - ptratio_output_root_mean_squared_error: 1.2930 - val_loss: 14.1042 - val_price_output_loss: 11.2026 - val_ptratio_output_loss: 2.9016 - val_price_output_root_mean_squared_error: 3.3470 - val_ptratio_output_root_mean_squared_error: 1.7034\n",
            "Epoch 48/100\n",
            "33/33 [==============================] - 0s 2ms/step - loss: 13.4587 - price_output_loss: 11.8024 - ptratio_output_loss: 1.6563 - price_output_root_mean_squared_error: 3.4355 - ptratio_output_root_mean_squared_error: 1.2870 - val_loss: 14.3524 - val_price_output_loss: 11.4630 - val_ptratio_output_loss: 2.8894 - val_price_output_root_mean_squared_error: 3.3857 - val_ptratio_output_root_mean_squared_error: 1.6998\n",
            "Epoch 49/100\n",
            "33/33 [==============================] - 0s 2ms/step - loss: 13.2769 - price_output_loss: 11.6682 - ptratio_output_loss: 1.6087 - price_output_root_mean_squared_error: 3.4159 - ptratio_output_root_mean_squared_error: 1.2683 - val_loss: 14.5502 - val_price_output_loss: 11.7546 - val_ptratio_output_loss: 2.7956 - val_price_output_root_mean_squared_error: 3.4285 - val_ptratio_output_root_mean_squared_error: 1.6720\n",
            "Epoch 50/100\n",
            "33/33 [==============================] - 0s 3ms/step - loss: 13.3696 - price_output_loss: 11.6635 - ptratio_output_loss: 1.7061 - price_output_root_mean_squared_error: 3.4152 - ptratio_output_root_mean_squared_error: 1.3062 - val_loss: 13.2617 - val_price_output_loss: 10.6767 - val_ptratio_output_loss: 2.5850 - val_price_output_root_mean_squared_error: 3.2675 - val_ptratio_output_root_mean_squared_error: 1.6078\n",
            "Epoch 51/100\n",
            "33/33 [==============================] - 0s 2ms/step - loss: 13.3186 - price_output_loss: 11.6608 - ptratio_output_loss: 1.6578 - price_output_root_mean_squared_error: 3.4148 - ptratio_output_root_mean_squared_error: 1.2875 - val_loss: 14.3817 - val_price_output_loss: 11.0618 - val_ptratio_output_loss: 3.3199 - val_price_output_root_mean_squared_error: 3.3259 - val_ptratio_output_root_mean_squared_error: 1.8221\n",
            "Epoch 52/100\n",
            "33/33 [==============================] - 0s 2ms/step - loss: 13.1290 - price_output_loss: 11.4921 - ptratio_output_loss: 1.6368 - price_output_root_mean_squared_error: 3.3900 - ptratio_output_root_mean_squared_error: 1.2794 - val_loss: 13.6534 - val_price_output_loss: 10.9178 - val_ptratio_output_loss: 2.7356 - val_price_output_root_mean_squared_error: 3.3042 - val_ptratio_output_root_mean_squared_error: 1.6540\n",
            "Epoch 53/100\n",
            "33/33 [==============================] - 0s 2ms/step - loss: 13.0289 - price_output_loss: 11.3957 - ptratio_output_loss: 1.6332 - price_output_root_mean_squared_error: 3.3758 - ptratio_output_root_mean_squared_error: 1.2780 - val_loss: 13.6058 - val_price_output_loss: 10.8603 - val_ptratio_output_loss: 2.7456 - val_price_output_root_mean_squared_error: 3.2955 - val_ptratio_output_root_mean_squared_error: 1.6570\n",
            "Epoch 54/100\n",
            "33/33 [==============================] - 0s 3ms/step - loss: 12.8201 - price_output_loss: 11.2621 - ptratio_output_loss: 1.5580 - price_output_root_mean_squared_error: 3.3559 - ptratio_output_root_mean_squared_error: 1.2482 - val_loss: 13.1749 - val_price_output_loss: 10.5857 - val_ptratio_output_loss: 2.5892 - val_price_output_root_mean_squared_error: 3.2536 - val_ptratio_output_root_mean_squared_error: 1.6091\n",
            "Epoch 55/100\n",
            "33/33 [==============================] - 0s 2ms/step - loss: 12.7556 - price_output_loss: 11.2280 - ptratio_output_loss: 1.5276 - price_output_root_mean_squared_error: 3.3508 - ptratio_output_root_mean_squared_error: 1.2359 - val_loss: 13.3141 - val_price_output_loss: 10.6761 - val_ptratio_output_loss: 2.6380 - val_price_output_root_mean_squared_error: 3.2674 - val_ptratio_output_root_mean_squared_error: 1.6242\n",
            "Epoch 56/100\n",
            "33/33 [==============================] - 0s 3ms/step - loss: 12.6799 - price_output_loss: 11.1122 - ptratio_output_loss: 1.5677 - price_output_root_mean_squared_error: 3.3335 - ptratio_output_root_mean_squared_error: 1.2521 - val_loss: 13.5736 - val_price_output_loss: 10.9240 - val_ptratio_output_loss: 2.6496 - val_price_output_root_mean_squared_error: 3.3051 - val_ptratio_output_root_mean_squared_error: 1.6278\n",
            "Epoch 57/100\n",
            "33/33 [==============================] - 0s 3ms/step - loss: 12.7694 - price_output_loss: 11.2164 - ptratio_output_loss: 1.5531 - price_output_root_mean_squared_error: 3.3491 - ptratio_output_root_mean_squared_error: 1.2462 - val_loss: 13.7768 - val_price_output_loss: 11.1395 - val_ptratio_output_loss: 2.6373 - val_price_output_root_mean_squared_error: 3.3376 - val_ptratio_output_root_mean_squared_error: 1.6240\n",
            "Epoch 58/100\n",
            "33/33 [==============================] - 0s 2ms/step - loss: 12.4504 - price_output_loss: 10.9220 - ptratio_output_loss: 1.5284 - price_output_root_mean_squared_error: 3.3049 - ptratio_output_root_mean_squared_error: 1.2363 - val_loss: 13.6158 - val_price_output_loss: 10.7330 - val_ptratio_output_loss: 2.8828 - val_price_output_root_mean_squared_error: 3.2761 - val_ptratio_output_root_mean_squared_error: 1.6979\n",
            "Epoch 59/100\n",
            "33/33 [==============================] - 0s 2ms/step - loss: 12.6276 - price_output_loss: 11.0969 - ptratio_output_loss: 1.5307 - price_output_root_mean_squared_error: 3.3312 - ptratio_output_root_mean_squared_error: 1.2372 - val_loss: 13.5000 - val_price_output_loss: 10.8243 - val_ptratio_output_loss: 2.6757 - val_price_output_root_mean_squared_error: 3.2900 - val_ptratio_output_root_mean_squared_error: 1.6357\n",
            "Epoch 60/100\n",
            "33/33 [==============================] - 0s 2ms/step - loss: 12.4730 - price_output_loss: 10.9576 - ptratio_output_loss: 1.5155 - price_output_root_mean_squared_error: 3.3102 - ptratio_output_root_mean_squared_error: 1.2310 - val_loss: 14.0938 - val_price_output_loss: 11.5125 - val_ptratio_output_loss: 2.5813 - val_price_output_root_mean_squared_error: 3.3930 - val_ptratio_output_root_mean_squared_error: 1.6067\n",
            "Epoch 61/100\n",
            "33/33 [==============================] - 0s 2ms/step - loss: 12.3932 - price_output_loss: 10.8827 - ptratio_output_loss: 1.5105 - price_output_root_mean_squared_error: 3.2989 - ptratio_output_root_mean_squared_error: 1.2290 - val_loss: 13.7487 - val_price_output_loss: 10.5841 - val_ptratio_output_loss: 3.1646 - val_price_output_root_mean_squared_error: 3.2533 - val_ptratio_output_root_mean_squared_error: 1.7789\n",
            "Epoch 62/100\n",
            "33/33 [==============================] - 0s 2ms/step - loss: 12.3286 - price_output_loss: 10.8292 - ptratio_output_loss: 1.4994 - price_output_root_mean_squared_error: 3.2908 - ptratio_output_root_mean_squared_error: 1.2245 - val_loss: 13.9991 - val_price_output_loss: 11.5815 - val_ptratio_output_loss: 2.4176 - val_price_output_root_mean_squared_error: 3.4032 - val_ptratio_output_root_mean_squared_error: 1.5549\n",
            "Epoch 63/100\n",
            "33/33 [==============================] - 0s 2ms/step - loss: 12.3723 - price_output_loss: 10.9151 - ptratio_output_loss: 1.4572 - price_output_root_mean_squared_error: 3.3038 - ptratio_output_root_mean_squared_error: 1.2072 - val_loss: 14.7905 - val_price_output_loss: 10.9159 - val_ptratio_output_loss: 3.8746 - val_price_output_root_mean_squared_error: 3.3039 - val_ptratio_output_root_mean_squared_error: 1.9684\n",
            "Epoch 64/100\n",
            "33/33 [==============================] - 0s 3ms/step - loss: 12.1850 - price_output_loss: 10.7532 - ptratio_output_loss: 1.4318 - price_output_root_mean_squared_error: 3.2792 - ptratio_output_root_mean_squared_error: 1.1966 - val_loss: 13.5455 - val_price_output_loss: 10.9954 - val_ptratio_output_loss: 2.5500 - val_price_output_root_mean_squared_error: 3.3159 - val_ptratio_output_root_mean_squared_error: 1.5969\n",
            "Epoch 65/100\n",
            "33/33 [==============================] - 0s 3ms/step - loss: 12.0655 - price_output_loss: 10.6534 - ptratio_output_loss: 1.4121 - price_output_root_mean_squared_error: 3.2640 - ptratio_output_root_mean_squared_error: 1.1883 - val_loss: 13.2584 - val_price_output_loss: 10.5211 - val_ptratio_output_loss: 2.7373 - val_price_output_root_mean_squared_error: 3.2436 - val_ptratio_output_root_mean_squared_error: 1.6545\n",
            "Epoch 66/100\n",
            "33/33 [==============================] - 0s 3ms/step - loss: 12.0420 - price_output_loss: 10.6648 - ptratio_output_loss: 1.3772 - price_output_root_mean_squared_error: 3.2657 - ptratio_output_root_mean_squared_error: 1.1736 - val_loss: 13.2853 - val_price_output_loss: 10.6419 - val_ptratio_output_loss: 2.6434 - val_price_output_root_mean_squared_error: 3.2622 - val_ptratio_output_root_mean_squared_error: 1.6259\n",
            "Epoch 67/100\n",
            "33/33 [==============================] - 0s 2ms/step - loss: 12.1308 - price_output_loss: 10.7423 - ptratio_output_loss: 1.3884 - price_output_root_mean_squared_error: 3.2775 - ptratio_output_root_mean_squared_error: 1.1783 - val_loss: 12.8881 - val_price_output_loss: 10.4365 - val_ptratio_output_loss: 2.4516 - val_price_output_root_mean_squared_error: 3.2306 - val_ptratio_output_root_mean_squared_error: 1.5658\n",
            "Epoch 68/100\n",
            "33/33 [==============================] - 0s 2ms/step - loss: 11.8437 - price_output_loss: 10.4559 - ptratio_output_loss: 1.3878 - price_output_root_mean_squared_error: 3.2336 - ptratio_output_root_mean_squared_error: 1.1781 - val_loss: 13.3321 - val_price_output_loss: 10.8652 - val_ptratio_output_loss: 2.4668 - val_price_output_root_mean_squared_error: 3.2962 - val_ptratio_output_root_mean_squared_error: 1.5706\n",
            "Epoch 69/100\n",
            "33/33 [==============================] - 0s 2ms/step - loss: 11.8188 - price_output_loss: 10.4854 - ptratio_output_loss: 1.3334 - price_output_root_mean_squared_error: 3.2381 - ptratio_output_root_mean_squared_error: 1.1547 - val_loss: 12.9862 - val_price_output_loss: 10.6183 - val_ptratio_output_loss: 2.3679 - val_price_output_root_mean_squared_error: 3.2586 - val_ptratio_output_root_mean_squared_error: 1.5388\n",
            "Epoch 70/100\n",
            "33/33 [==============================] - 0s 2ms/step - loss: 11.7671 - price_output_loss: 10.4636 - ptratio_output_loss: 1.3035 - price_output_root_mean_squared_error: 3.2347 - ptratio_output_root_mean_squared_error: 1.1417 - val_loss: 12.8454 - val_price_output_loss: 10.3466 - val_ptratio_output_loss: 2.4989 - val_price_output_root_mean_squared_error: 3.2166 - val_ptratio_output_root_mean_squared_error: 1.5808\n",
            "Epoch 71/100\n",
            "33/33 [==============================] - 0s 2ms/step - loss: 11.7395 - price_output_loss: 10.4190 - ptratio_output_loss: 1.3206 - price_output_root_mean_squared_error: 3.2278 - ptratio_output_root_mean_squared_error: 1.1492 - val_loss: 13.4145 - val_price_output_loss: 10.8338 - val_ptratio_output_loss: 2.5807 - val_price_output_root_mean_squared_error: 3.2915 - val_ptratio_output_root_mean_squared_error: 1.6065\n",
            "Epoch 72/100\n",
            "33/33 [==============================] - 0s 3ms/step - loss: 11.5582 - price_output_loss: 10.2219 - ptratio_output_loss: 1.3362 - price_output_root_mean_squared_error: 3.1972 - ptratio_output_root_mean_squared_error: 1.1560 - val_loss: 14.2122 - val_price_output_loss: 11.6477 - val_ptratio_output_loss: 2.5645 - val_price_output_root_mean_squared_error: 3.4129 - val_ptratio_output_root_mean_squared_error: 1.6014\n",
            "Epoch 73/100\n",
            "33/33 [==============================] - 0s 2ms/step - loss: 11.4771 - price_output_loss: 10.2367 - ptratio_output_loss: 1.2405 - price_output_root_mean_squared_error: 3.1995 - ptratio_output_root_mean_squared_error: 1.1138 - val_loss: 14.0443 - val_price_output_loss: 11.7476 - val_ptratio_output_loss: 2.2968 - val_price_output_root_mean_squared_error: 3.4275 - val_ptratio_output_root_mean_squared_error: 1.5155\n",
            "Epoch 74/100\n",
            "33/33 [==============================] - 0s 2ms/step - loss: 11.7705 - price_output_loss: 10.4650 - ptratio_output_loss: 1.3055 - price_output_root_mean_squared_error: 3.2350 - ptratio_output_root_mean_squared_error: 1.1426 - val_loss: 13.7934 - val_price_output_loss: 11.0647 - val_ptratio_output_loss: 2.7287 - val_price_output_root_mean_squared_error: 3.3264 - val_ptratio_output_root_mean_squared_error: 1.6519\n",
            "Epoch 75/100\n",
            "33/33 [==============================] - 0s 2ms/step - loss: 11.5156 - price_output_loss: 10.1977 - ptratio_output_loss: 1.3179 - price_output_root_mean_squared_error: 3.1934 - ptratio_output_root_mean_squared_error: 1.1480 - val_loss: 13.4887 - val_price_output_loss: 10.9867 - val_ptratio_output_loss: 2.5020 - val_price_output_root_mean_squared_error: 3.3146 - val_ptratio_output_root_mean_squared_error: 1.5818\n",
            "Epoch 76/100\n",
            "33/33 [==============================] - 0s 3ms/step - loss: 11.4132 - price_output_loss: 10.1806 - ptratio_output_loss: 1.2326 - price_output_root_mean_squared_error: 3.1907 - ptratio_output_root_mean_squared_error: 1.1102 - val_loss: 13.3893 - val_price_output_loss: 11.0352 - val_ptratio_output_loss: 2.3541 - val_price_output_root_mean_squared_error: 3.3219 - val_ptratio_output_root_mean_squared_error: 1.5343\n",
            "Epoch 77/100\n",
            "33/33 [==============================] - 0s 2ms/step - loss: 11.4408 - price_output_loss: 10.2166 - ptratio_output_loss: 1.2242 - price_output_root_mean_squared_error: 3.1963 - ptratio_output_root_mean_squared_error: 1.1064 - val_loss: 13.7834 - val_price_output_loss: 11.4168 - val_ptratio_output_loss: 2.3665 - val_price_output_root_mean_squared_error: 3.3789 - val_ptratio_output_root_mean_squared_error: 1.5384\n",
            "Epoch 78/100\n",
            "33/33 [==============================] - 0s 3ms/step - loss: 11.3084 - price_output_loss: 10.1054 - ptratio_output_loss: 1.2030 - price_output_root_mean_squared_error: 3.1789 - ptratio_output_root_mean_squared_error: 1.0968 - val_loss: 13.3023 - val_price_output_loss: 10.7733 - val_ptratio_output_loss: 2.5290 - val_price_output_root_mean_squared_error: 3.2823 - val_ptratio_output_root_mean_squared_error: 1.5903\n",
            "Epoch 79/100\n",
            "33/33 [==============================] - 0s 2ms/step - loss: 11.2590 - price_output_loss: 10.0435 - ptratio_output_loss: 1.2156 - price_output_root_mean_squared_error: 3.1691 - ptratio_output_root_mean_squared_error: 1.1025 - val_loss: 13.5350 - val_price_output_loss: 10.8096 - val_ptratio_output_loss: 2.7253 - val_price_output_root_mean_squared_error: 3.2878 - val_ptratio_output_root_mean_squared_error: 1.6509\n",
            "Epoch 80/100\n",
            "33/33 [==============================] - 0s 3ms/step - loss: 11.3617 - price_output_loss: 10.1032 - ptratio_output_loss: 1.2586 - price_output_root_mean_squared_error: 3.1786 - ptratio_output_root_mean_squared_error: 1.1219 - val_loss: 13.5877 - val_price_output_loss: 10.7141 - val_ptratio_output_loss: 2.8736 - val_price_output_root_mean_squared_error: 3.2732 - val_ptratio_output_root_mean_squared_error: 1.6952\n",
            "Epoch 81/100\n",
            "33/33 [==============================] - 0s 3ms/step - loss: 11.1493 - price_output_loss: 9.8968 - ptratio_output_loss: 1.2525 - price_output_root_mean_squared_error: 3.1459 - ptratio_output_root_mean_squared_error: 1.1191 - val_loss: 12.9638 - val_price_output_loss: 10.6587 - val_ptratio_output_loss: 2.3051 - val_price_output_root_mean_squared_error: 3.2648 - val_ptratio_output_root_mean_squared_error: 1.5183\n",
            "Epoch 82/100\n",
            "33/33 [==============================] - 0s 2ms/step - loss: 11.0835 - price_output_loss: 9.9024 - ptratio_output_loss: 1.1812 - price_output_root_mean_squared_error: 3.1468 - ptratio_output_root_mean_squared_error: 1.0868 - val_loss: 13.1954 - val_price_output_loss: 10.6587 - val_ptratio_output_loss: 2.5367 - val_price_output_root_mean_squared_error: 3.2648 - val_ptratio_output_root_mean_squared_error: 1.5927\n",
            "Epoch 83/100\n",
            "33/33 [==============================] - 0s 2ms/step - loss: 11.0288 - price_output_loss: 9.8313 - ptratio_output_loss: 1.1975 - price_output_root_mean_squared_error: 3.1355 - ptratio_output_root_mean_squared_error: 1.0943 - val_loss: 13.8810 - val_price_output_loss: 10.9204 - val_ptratio_output_loss: 2.9606 - val_price_output_root_mean_squared_error: 3.3046 - val_ptratio_output_root_mean_squared_error: 1.7206\n",
            "Epoch 84/100\n",
            "33/33 [==============================] - 0s 2ms/step - loss: 11.1103 - price_output_loss: 9.8544 - ptratio_output_loss: 1.2559 - price_output_root_mean_squared_error: 3.1392 - ptratio_output_root_mean_squared_error: 1.1207 - val_loss: 12.7166 - val_price_output_loss: 10.2813 - val_ptratio_output_loss: 2.4352 - val_price_output_root_mean_squared_error: 3.2065 - val_ptratio_output_root_mean_squared_error: 1.5605\n",
            "Epoch 85/100\n",
            "33/33 [==============================] - 0s 2ms/step - loss: 10.9987 - price_output_loss: 9.7731 - ptratio_output_loss: 1.2256 - price_output_root_mean_squared_error: 3.1262 - ptratio_output_root_mean_squared_error: 1.1071 - val_loss: 14.8658 - val_price_output_loss: 12.2498 - val_ptratio_output_loss: 2.6159 - val_price_output_root_mean_squared_error: 3.5000 - val_ptratio_output_root_mean_squared_error: 1.6174\n",
            "Epoch 86/100\n",
            "33/33 [==============================] - 0s 3ms/step - loss: 10.8281 - price_output_loss: 9.6756 - ptratio_output_loss: 1.1524 - price_output_root_mean_squared_error: 3.1106 - ptratio_output_root_mean_squared_error: 1.0735 - val_loss: 12.8419 - val_price_output_loss: 10.0413 - val_ptratio_output_loss: 2.8005 - val_price_output_root_mean_squared_error: 3.1688 - val_ptratio_output_root_mean_squared_error: 1.6735\n",
            "Epoch 87/100\n",
            "33/33 [==============================] - 0s 3ms/step - loss: 10.9614 - price_output_loss: 9.8151 - ptratio_output_loss: 1.1463 - price_output_root_mean_squared_error: 3.1329 - ptratio_output_root_mean_squared_error: 1.0706 - val_loss: 13.3764 - val_price_output_loss: 10.9269 - val_ptratio_output_loss: 2.4495 - val_price_output_root_mean_squared_error: 3.3056 - val_ptratio_output_root_mean_squared_error: 1.5651\n",
            "Epoch 88/100\n",
            "33/33 [==============================] - 0s 3ms/step - loss: 10.9896 - price_output_loss: 9.8786 - ptratio_output_loss: 1.1110 - price_output_root_mean_squared_error: 3.1430 - ptratio_output_root_mean_squared_error: 1.0540 - val_loss: 13.1867 - val_price_output_loss: 10.5880 - val_ptratio_output_loss: 2.5987 - val_price_output_root_mean_squared_error: 3.2539 - val_ptratio_output_root_mean_squared_error: 1.6120\n",
            "Epoch 89/100\n",
            "33/33 [==============================] - 0s 3ms/step - loss: 10.8976 - price_output_loss: 9.7802 - ptratio_output_loss: 1.1174 - price_output_root_mean_squared_error: 3.1273 - ptratio_output_root_mean_squared_error: 1.0571 - val_loss: 12.8292 - val_price_output_loss: 10.4173 - val_ptratio_output_loss: 2.4118 - val_price_output_root_mean_squared_error: 3.2276 - val_ptratio_output_root_mean_squared_error: 1.5530\n",
            "Epoch 90/100\n",
            "33/33 [==============================] - 0s 2ms/step - loss: 10.6582 - price_output_loss: 9.5469 - ptratio_output_loss: 1.1113 - price_output_root_mean_squared_error: 3.0898 - ptratio_output_root_mean_squared_error: 1.0542 - val_loss: 12.9600 - val_price_output_loss: 10.4477 - val_ptratio_output_loss: 2.5123 - val_price_output_root_mean_squared_error: 3.2323 - val_ptratio_output_root_mean_squared_error: 1.5850\n",
            "Epoch 91/100\n",
            "33/33 [==============================] - 0s 2ms/step - loss: 10.6771 - price_output_loss: 9.5261 - ptratio_output_loss: 1.1510 - price_output_root_mean_squared_error: 3.0864 - ptratio_output_root_mean_squared_error: 1.0729 - val_loss: 13.2410 - val_price_output_loss: 10.8100 - val_ptratio_output_loss: 2.4310 - val_price_output_root_mean_squared_error: 3.2879 - val_ptratio_output_root_mean_squared_error: 1.5592\n",
            "Epoch 92/100\n",
            "33/33 [==============================] - 0s 2ms/step - loss: 10.6399 - price_output_loss: 9.4949 - ptratio_output_loss: 1.1451 - price_output_root_mean_squared_error: 3.0814 - ptratio_output_root_mean_squared_error: 1.0701 - val_loss: 12.9372 - val_price_output_loss: 10.4614 - val_ptratio_output_loss: 2.4758 - val_price_output_root_mean_squared_error: 3.2344 - val_ptratio_output_root_mean_squared_error: 1.5735\n",
            "Epoch 93/100\n",
            "33/33 [==============================] - 0s 2ms/step - loss: 10.5973 - price_output_loss: 9.5301 - ptratio_output_loss: 1.0672 - price_output_root_mean_squared_error: 3.0871 - ptratio_output_root_mean_squared_error: 1.0331 - val_loss: 12.5647 - val_price_output_loss: 10.2444 - val_ptratio_output_loss: 2.3203 - val_price_output_root_mean_squared_error: 3.2007 - val_ptratio_output_root_mean_squared_error: 1.5232\n",
            "Epoch 94/100\n",
            "33/33 [==============================] - 0s 2ms/step - loss: 10.5742 - price_output_loss: 9.4213 - ptratio_output_loss: 1.1528 - price_output_root_mean_squared_error: 3.0694 - ptratio_output_root_mean_squared_error: 1.0737 - val_loss: 12.7712 - val_price_output_loss: 10.3137 - val_ptratio_output_loss: 2.4575 - val_price_output_root_mean_squared_error: 3.2115 - val_ptratio_output_root_mean_squared_error: 1.5676\n",
            "Epoch 95/100\n",
            "33/33 [==============================] - 0s 2ms/step - loss: 10.4875 - price_output_loss: 9.4176 - ptratio_output_loss: 1.0699 - price_output_root_mean_squared_error: 3.0688 - ptratio_output_root_mean_squared_error: 1.0344 - val_loss: 12.9117 - val_price_output_loss: 10.5234 - val_ptratio_output_loss: 2.3883 - val_price_output_root_mean_squared_error: 3.2440 - val_ptratio_output_root_mean_squared_error: 1.5454\n",
            "Epoch 96/100\n",
            "33/33 [==============================] - 0s 3ms/step - loss: 10.5156 - price_output_loss: 9.4457 - ptratio_output_loss: 1.0699 - price_output_root_mean_squared_error: 3.0734 - ptratio_output_root_mean_squared_error: 1.0343 - val_loss: 12.6495 - val_price_output_loss: 10.2609 - val_ptratio_output_loss: 2.3885 - val_price_output_root_mean_squared_error: 3.2033 - val_ptratio_output_root_mean_squared_error: 1.5455\n",
            "Epoch 97/100\n",
            "33/33 [==============================] - 0s 2ms/step - loss: 9.9189 - price_output_loss: 8.9022 - ptratio_output_loss: 1.0166 - price_output_root_mean_squared_error: 2.9837 - ptratio_output_root_mean_squared_error: 1.0083 - val_loss: 16.1813 - val_price_output_loss: 13.5073 - val_ptratio_output_loss: 2.6740 - val_price_output_root_mean_squared_error: 3.6752 - val_ptratio_output_root_mean_squared_error: 1.6352\n",
            "Epoch 98/100\n",
            "33/33 [==============================] - 0s 3ms/step - loss: 10.6008 - price_output_loss: 9.5474 - ptratio_output_loss: 1.0534 - price_output_root_mean_squared_error: 3.0899 - ptratio_output_root_mean_squared_error: 1.0264 - val_loss: 13.9548 - val_price_output_loss: 11.6498 - val_ptratio_output_loss: 2.3050 - val_price_output_root_mean_squared_error: 3.4132 - val_ptratio_output_root_mean_squared_error: 1.5182\n",
            "Epoch 99/100\n",
            "33/33 [==============================] - 0s 3ms/step - loss: 10.4726 - price_output_loss: 9.4571 - ptratio_output_loss: 1.0155 - price_output_root_mean_squared_error: 3.0752 - ptratio_output_root_mean_squared_error: 1.0077 - val_loss: 13.6171 - val_price_output_loss: 11.1959 - val_ptratio_output_loss: 2.4211 - val_price_output_root_mean_squared_error: 3.3460 - val_ptratio_output_root_mean_squared_error: 1.5560\n",
            "Epoch 100/100\n",
            "33/33 [==============================] - 0s 2ms/step - loss: 10.5535 - price_output_loss: 9.4719 - ptratio_output_loss: 1.0816 - price_output_root_mean_squared_error: 3.0776 - ptratio_output_root_mean_squared_error: 1.0400 - val_loss: 12.7583 - val_price_output_loss: 10.2122 - val_ptratio_output_loss: 2.5460 - val_price_output_root_mean_squared_error: 3.1957 - val_ptratio_output_root_mean_squared_error: 1.5956\n"
          ]
        }
      ]
    },
    {
      "cell_type": "code",
      "metadata": {
        "pycharm": {
          "name": "#%%\n"
        },
        "colab": {
          "base_uri": "https://localhost:8080/"
        },
        "id": "N81PqUDJhc5P",
        "outputId": "84f0b5db-7e49-455a-f8c7-e46e7015185e"
      },
      "source": [
        "# Test the model and print loss and rmse for both outputs\n",
        "loss, Y1_loss, Y2_loss, Y1_rmse, Y2_rmse = model.evaluate(x=norm_val_X, y=val_Y)\n",
        "\n",
        "print()\n",
        "print(f'loss: {loss}')\n",
        "print(f'price_loss: {Y1_loss}')\n",
        "print(f'ptratio_loss: {Y2_loss}')\n",
        "print(f'price_rmse: {Y1_rmse}')\n",
        "print(f'ptratio_rmse: {Y2_rmse}')"
      ],
      "execution_count": 15,
      "outputs": [
        {
          "output_type": "stream",
          "name": "stdout",
          "text": [
            "3/3 [==============================] - 0s 8ms/step - loss: 14.2165 - price_output_loss: 12.1776 - ptratio_output_loss: 2.0389 - price_output_root_mean_squared_error: 3.4896 - ptratio_output_root_mean_squared_error: 1.4279\n",
            "\n",
            "loss: 14.216529846191406\n",
            "price_loss: 12.177634239196777\n",
            "ptratio_loss: 2.038896083831787\n",
            "price_rmse: 3.4896466732025146\n",
            "ptratio_rmse: 1.4278992414474487\n"
          ]
        }
      ]
    },
    {
      "cell_type": "code",
      "metadata": {
        "pycharm": {
          "name": "#%%\n"
        },
        "id": "uvPTpvo5hc5P"
      },
      "source": [
        "def plot_diff(y_true, y_pred, title=''):\n",
        "    plt.scatter(y_true, y_pred)\n",
        "    plt.title(title)\n",
        "    plt.xlabel('True Values')\n",
        "    plt.ylabel('Predictions')\n",
        "    plt.axis('equal')\n",
        "    plt.axis('square')\n",
        "    plt.xlim(plt.xlim())\n",
        "    plt.ylim(plt.ylim())\n",
        "    plt.plot([-100, 100], [-100, 100])\n",
        "    plt.show()\n",
        "\n",
        "\n",
        "def plot_metrics(metric_name, title, ylim=5):\n",
        "    plt.title(title)\n",
        "    plt.ylim(0, ylim)\n",
        "    plt.plot(history.history[metric_name], color='blue', label=metric_name)\n",
        "    plt.plot(history.history['val_' + metric_name], color='green', label='val_' + metric_name)\n",
        "    plt.show()"
      ],
      "execution_count": 16,
      "outputs": []
    },
    {
      "cell_type": "code",
      "metadata": {
        "pycharm": {
          "name": "#%%\n"
        },
        "colab": {
          "base_uri": "https://localhost:8080/",
          "height": 573
        },
        "id": "zJVDmJxchc5P",
        "outputId": "f1228660-0ca8-415c-a109-d5a9edb29709"
      },
      "source": [
        "# Run predict\n",
        "Y_pred = model.predict(norm_test_X)\n",
        "price_pred = Y_pred[0]\n",
        "ptratio_pred = Y_pred[1]\n",
        "\n",
        "plot_diff(test_Y[0], Y_pred[0], title='PRICE')\n",
        "plot_diff(test_Y[1], Y_pred[1], title='PTRATIO')"
      ],
      "execution_count": 17,
      "outputs": [
        {
          "output_type": "display_data",
          "data": {
            "image/png": "[encoded data removed]",
            "text/plain": [
              "<Figure size 432x288 with 1 Axes>"
            ]
          },
          "metadata": {
            "needs_background": "light"
          }
        },
        {
          "output_type": "display_data",
          "data": {
            "image/png": "[encoded data removed]",
            "text/plain": [
              "<Figure size 432x288 with 1 Axes>"
            ]
          },
          "metadata": {
            "needs_background": "light"
          }
        }
      ]
    },
    {
      "cell_type": "code",
      "metadata": {
        "pycharm": {
          "name": "#%%\n"
        },
        "colab": {
          "base_uri": "https://localhost:8080/",
          "height": 545
        },
        "id": "n6SCtYEjhc5Q",
        "outputId": "884275aa-82f3-423f-f0d6-797082c600b1"
      },
      "source": [
        "# Plot RMSE\n",
        "plot_metrics(metric_name='price_output_root_mean_squared_error', title='PRICE RMSE', ylim=15)\n",
        "plot_metrics(metric_name='ptratio_output_root_mean_squared_error', title='PTRATIO RMSE', ylim=7)"
      ],
      "execution_count": 18,
      "outputs": [
        {
          "output_type": "display_data",
          "data": {
            "image/png": "[encoded data removed]",
            "text/plain": [
              "<Figure size 432x288 with 1 Axes>"
            ]
          },
          "metadata": {
            "needs_background": "light"
          }
        },
        {
          "output_type": "display_data",
          "data": {
            "image/png": "[encoded data removed]",
            "text/plain": [
              "<Figure size 432x288 with 1 Axes>"
            ]
          },
          "metadata": {
            "needs_background": "light"
          }
        }
      ]
    },
    {
      "cell_type": "code",
      "metadata": {
        "pycharm": {
          "name": "#%%\n"
        },
        "colab": {
          "base_uri": "https://localhost:8080/",
          "height": 545
        },
        "id": "TFHAVEDthc5Q",
        "outputId": "78b09c1a-902d-4e5a-899e-2312cd418153"
      },
      "source": [
        "# Plot loss\n",
        "plot_metrics(metric_name='price_output_loss', title='PRICE LOSS', ylim=50)\n",
        "plot_metrics(metric_name='ptratio_output_loss', title='PTRATIO LOSS', ylim=15)"
      ],
      "execution_count": null,
      "outputs": [
        {
          "output_type": "display_data",
          "data": {
            "image/png": "[encoded data removed]",
            "text/plain": [
              "<Figure size 432x288 with 1 Axes>"
            ]
          },
          "metadata": {
            "tags": [],
            "needs_background": "light"
          }
        },
        {
          "output_type": "display_data",
          "data": {
            "image/png": "[encoded data removed]",
            "text/plain": [
              "<Figure size 432x288 with 1 Axes>"
            ]
          },
          "metadata": {
            "tags": [],
            "needs_background": "light"
          }
        }
      ]
    },
    {
      "cell_type": "code",
      "metadata": {
        "pycharm": {
          "name": "#%%\n"
        },
        "colab": {
          "base_uri": "https://localhost:8080/"
        },
        "id": "0LEhCRNOhc5Q",
        "outputId": "fa7691ba-9729-40e3-b368-9d5a19c4961a"
      },
      "source": [
        "# Save model\n",
        "model.save('./model_boston/', save_format='tf')"
      ],
      "execution_count": 19,
      "outputs": [
        {
          "output_type": "stream",
          "name": "stdout",
          "text": [
            "INFO:tensorflow:Assets written to: ./model_boston/assets\n"
          ]
        }
      ]
    },
    {
      "cell_type": "code",
      "metadata": {
        "pycharm": {
          "name": "#%%\n"
        },
        "id": "lesdN6kAhc5Q"
      },
      "source": [
        "# Restore model\n",
        "loaded_model = tf.keras.models.load_model('./model_boston/')"
      ],
      "execution_count": 20,
      "outputs": []
    },
    {
      "cell_type": "code",
      "metadata": {
        "pycharm": {
          "name": "#%%\n"
        },
        "id": "go-B_jmyhc5R"
      },
      "source": [
        "# Run predict with restored model\n",
        "predictions = loaded_model.predict(norm_test_X)\n",
        "price_pred = predictions[0]\n",
        "ptratio_pred = predictions[1]"
      ],
      "execution_count": 21,
      "outputs": []
    },
    {
      "cell_type": "code",
      "metadata": {
        "id": "7MEIautvpn1P"
      },
      "source": [
        ""
      ],
      "execution_count": null,
      "outputs": []
    }
  ]
}